{
 "cells": [
  {
   "cell_type": "markdown",
   "metadata": {},
   "source": [
    "# Assignment Set 3\n",
    "\n",
    "*Authors*: Myriam Belkhatir, Salomé Poulain, Shania Sinha"
   ]
  },
  {
   "cell_type": "code",
   "execution_count": null,
   "metadata": {},
   "outputs": [],
   "source": [
    "import numpy as np\n",
    "import matplotlib.pyplot as plt\n",
    "from matplotlib.animation import FuncAnimation, PillowWriter\n",
    "from scipy.sparse import diags\n",
    "\n",
    "from importlib import reload"
   ]
  },
  {
   "cell_type": "markdown",
   "metadata": {},
   "source": [
    "## **3.1**: Eigenmodes of Different Drum Shapes"
   ]
  },
  {
   "cell_type": "markdown",
   "metadata": {},
   "source": [
    "### **A**: Discretization of the Laplacian\n",
    "\n",
    "This question is mostly theoretical and does not require any code. However, a visual representation of the matrix is created in the code below."
   ]
  },
  {
   "cell_type": "code",
   "execution_count": null,
   "metadata": {},
   "outputs": [],
   "source": [
    "import src.matrix_form_plot\n",
    "reload(src.matrix_form_plot)\n",
    "from src.matrix_form_plot import plot_matrix_form\n",
    "\n",
    "# Discretization of the domain (matrix visualization)\n",
    "plot_matrix_form()"
   ]
  },
  {
   "cell_type": "markdown",
   "metadata": {},
   "source": [
    "### **B**: Eigenmodes of Differently-shaped Drums"
   ]
  },
  {
   "cell_type": "code",
   "execution_count": null,
   "metadata": {},
   "outputs": [],
   "source": [
    "import src.eigenmodes\n",
    "# reload(src.eigenmodes)\n",
    "from src.eigenmodes import EigenvalueProblem"
   ]
  },
  {
   "cell_type": "code",
   "execution_count": null,
   "metadata": {},
   "outputs": [],
   "source": [
    "# Define global parameters\n",
    "shape_dims_tuple = [\n",
    "        ('square', [1]),\n",
    "        ('rectangle', [1, 2]),\n",
    "        ('circle', [1])\n",
    "    ]\n",
    "\n",
    "used_solver = 'eig' # Choice explained in methodology of report\n",
    "n = 30"
   ]
  },
  {
   "cell_type": "markdown",
   "metadata": {},
   "source": [
    "#### **Different Domain Shapes**:\n",
    "##### 1. Square with Side = L\n",
    "##### 2. Rectangle with Sides = L, 2L\n",
    "##### 3. Circle with Diameter = L"
   ]
  },
  {
   "cell_type": "code",
   "execution_count": null,
   "metadata": {},
   "outputs": [],
   "source": [
    "results = {}\n",
    "solvers = ['eig', 'eigs', 'eigh', 'eigsh']\n",
    "# Solve eigenvalue problems and plot eigenmodes\n",
    "for shape, dims in shape_dims_tuple:\n",
    "    print(f\"\\nSolving for shape: {shape.capitalize()}, Dimensions: {dims}\")\n",
    "\n",
    "    problem = EigenvalueProblem(shape, dims, n=n)\n",
    "\n",
    "    for solver in solvers:\n",
    "        print(f\"Using solver: {solver}\")\n",
    "        eigenvals, eigenvecs, elapsed = problem.solve_eigen_problem(solver=solver, k=9)\n",
    "\n",
    "        # Store results\n",
    "        key = f\"{shape}_{solver}\"\n",
    "        results[key] = {\n",
    "            'eigenvalues': eigenvals,\n",
    "            'eigenvectors': eigenvecs,\n",
    "            'time': elapsed\n",
    "        }\n",
    "\n",
    "        problem.plot_eigenvectors(num_modes=6)"
   ]
  },
  {
   "cell_type": "markdown",
   "metadata": {},
   "source": [
    "### **C**: Speed comparison"
   ]
  },
  {
   "cell_type": "code",
   "execution_count": null,
   "metadata": {},
   "outputs": [],
   "source": [
    "# Performance comparison (Dense vs Sparse)\n",
    "print(\"\\nSolver Performance Comparison:\")\n",
    "for shape, _ in shape_dims_tuple:\n",
    "    dense_time = results[f\"{shape}_eig\"]['time']\n",
    "    sparse_time = results[f\"{shape}_eigs\"]['time']\n",
    "    speedup = dense_time / sparse_time\n",
    "    print(f\"{shape.capitalize()}: Dense={dense_time:.4f}s, Sparse={sparse_time:.4f}s, Speedup={speedup:.1f}x\")\n",
    "\n",
    "\n",
    "for shape, _ in shape_dims_tuple:\n",
    "    dense_time = results[f\"{shape}_eigh\"]['time']\n",
    "    sparse_time = results[f\"{shape}_eigsh\"]['time']\n",
    "    speedup = dense_time / sparse_time\n",
    "    print(f\"{shape.capitalize()}: Dense={dense_time:.4f}s, Sparse={sparse_time:.4f}s, Speedup={speedup:.1f}x\")"
   ]
  },
  {
   "cell_type": "markdown",
   "metadata": {},
   "source": [
    "### **D**: Frequency dependence"
   ]
  },
  {
   "cell_type": "code",
   "execution_count": null,
   "metadata": {},
   "outputs": [],
   "source": [
    "# Because eig is used as a solver for more precise results, this might take some time to run but < 10 minutes\n",
    "n_values = [15, 30, 60]\n",
    "L_values = np.linspace(0.5, 20.0, 10)\n",
    "fundamental_freqs = {n: {'square': [], 'rectangle': [], 'circle': []} for n in n_values}"
   ]
  },
  {
   "cell_type": "code",
   "execution_count": null,
   "metadata": {},
   "outputs": [],
   "source": [
    "for n in n_values:\n",
    "    print(f\"\\nSolving for n = {n}\")\n",
    "\n",
    "    for L in L_values:\n",
    "        print(f\"Domain size L = {L:.2f}\")\n",
    "\n",
    "        # Square\n",
    "        sq_prob = EigenvalueProblem('square', [L], n=n)\n",
    "        eig_sq, _, _ = sq_prob.solve_eigen_problem(solver=used_solver)\n",
    "        freq_sq = np.sqrt(eig_sq[0]) / (2*np.pi)\n",
    "        fundamental_freqs[n]['square'].append(freq_sq)\n",
    "\n",
    "        # Rectangle (2L x L)\n",
    "        rect_prob = EigenvalueProblem('rectangle', [L, 2*L], n=n)\n",
    "        eig_rect, _, _ = rect_prob.solve_eigen_problem(solver=used_solver)\n",
    "        freq_rect = np.sqrt(eig_rect[0]) / (2*np.pi)\n",
    "        fundamental_freqs[n]['rectangle'].append(freq_rect)\n",
    "\n",
    "        # Circle (diameter L)\n",
    "        circ_prob = EigenvalueProblem('circle', [L], n=n)\n",
    "        eig_circ, _, _ = circ_prob.solve_eigen_problem(solver=used_solver)\n",
    "        freq_circ = np.sqrt(eig_circ[0]) / (2*np.pi)\n",
    "        fundamental_freqs[n]['circle'].append(freq_circ)"
   ]
  },
  {
   "cell_type": "code",
   "execution_count": null,
   "metadata": {},
   "outputs": [],
   "source": [
    "# Define line styles for different discretization steps (n-values)\n",
    "line_styles = {15: '-', 30: '--', 60: ':'} \n",
    "\n",
    "# Define colors for different shapes\n",
    "shape_colors = {'square': 'b', 'rectangle': 'g', 'circle': 'r'}\n",
    "\n",
    "plt.figure(figsize=(10, 6), dpi=300)\n",
    "for n in n_values:\n",
    "    for shape in ['square', 'rectangle', 'circle']:\n",
    "        plt.plot(\n",
    "            L_values, fundamental_freqs[n][shape], \n",
    "            linestyle=line_styles[n], color=shape_colors[shape], alpha=0.6,\n",
    "            label=f\"{shape.capitalize()} (n={n})\"\n",
    "        )\n",
    "\n",
    "# Add a reference line f = c/L\n",
    "c_ref = fundamental_freqs[n_values[0]]['square'][0] * L_values[0] \n",
    "plt.plot(L_values, c_ref / L_values, '--k', label='1/L reference')\n",
    "plt.xlabel('Domain Size L', fontsize=16)\n",
    "plt.ylabel('Fundamental Frequency (Hz)', fontsize=16)\n",
    "plt.title('Fundamental Frequency vs. L', fontsize=16)\n",
    "plt.xticks(fontsize=14)\n",
    "plt.yticks(fontsize=14)\n",
    "plt.legend(fontsize=14)\n",
    "plt.savefig('results/membrane_eigenmodes/frequency_vs_L.png')\n",
    "plt.show()"
   ]
  },
  {
   "cell_type": "markdown",
   "metadata": {},
   "source": [
    "### **E**: Time-dependent solutions"
   ]
  },
  {
   "cell_type": "code",
   "execution_count": null,
   "metadata": {},
   "outputs": [],
   "source": [
    "for shape, dims in shape_dims_tuple:\n",
    "    problem = EigenvalueProblem(shape, dims)\n",
    "    eigenvalues, eigenvectors, _ = problem.solve_eigen_problem(solver='eig')\n",
    "    problem.animate_eigenmodes(save_as=shape)"
   ]
  },
  {
   "cell_type": "markdown",
   "metadata": {},
   "source": [
    "## **3.2**: Direct Methods for Steady State Problems"
   ]
  },
  {
   "cell_type": "code",
   "execution_count": null,
   "metadata": {},
   "outputs": [],
   "source": [
    "import src.direct_steady_state\n",
    "reload(src.direct_steady_state)\n",
    "from src.direct_steady_state import *"
   ]
  },
  {
   "cell_type": "markdown",
   "metadata": {},
   "source": [
    "### **G**: Plotting the Steady-State Diffusion"
   ]
  },
  {
   "cell_type": "code",
   "execution_count": null,
   "metadata": {},
   "outputs": [],
   "source": [
    "plot_steady_state_concentration(savefig=False)"
   ]
  },
  {
   "cell_type": "markdown",
   "metadata": {},
   "source": [
    "## **3.3**: Leapfrog Integration"
   ]
  },
  {
   "cell_type": "code",
   "execution_count": null,
   "metadata": {},
   "outputs": [],
   "source": [
    "import src.leapfrog\n",
    "reload(src.leapfrog)\n",
    "from src.leapfrog import Leapfrog"
   ]
  },
  {
   "cell_type": "markdown",
   "metadata": {},
   "source": [
    "### **I**: Leapfrog Integration for the Simple Harmonic Oscillator"
   ]
  },
  {
   "cell_type": "code",
   "execution_count": null,
   "metadata": {},
   "outputs": [],
   "source": [
    "solver = Leapfrog(T=30)\n",
    "solver.solve_leapfrog()\n",
    "solver.plot_results_leapfrog(savefig=False)"
   ]
  },
  {
   "cell_type": "code",
   "execution_count": null,
   "metadata": {},
   "outputs": [],
   "source": [
    "k_values = [0.5, 1.0, 1.5, 2.0, 5.0]\n",
    "\n",
    "solver_many_k = Leapfrog(T=10)\n",
    "solver_many_k.solve_leapfrog()\n",
    "\n",
    "# Plot many positions graphs\n",
    "solver_many_k.plot_position_many_k(k_values, savefig=False)\n",
    "\n",
    "# Plot many velocities graphs\n",
    "solver_many_k.plot_velocity_many_k(k_values, savefig=False)"
   ]
  },
  {
   "cell_type": "markdown",
   "metadata": {},
   "source": [
    "### ***Bonus***: Leapfrog vs. Runge-Kutta (Energy Conservation Comparison)"
   ]
  },
  {
   "cell_type": "code",
   "execution_count": null,
   "metadata": {},
   "outputs": [],
   "source": [
    "solver_compare = Leapfrog(T=50, dt=0.01)\n",
    "solver_compare.plot_compare_methods(savefig=False)"
   ]
  },
  {
   "cell_type": "markdown",
   "metadata": {},
   "source": [
    "### **J**: Sinusoidal Forcing of Harmonic Oscillator"
   ]
  },
  {
   "cell_type": "code",
   "execution_count": null,
   "metadata": {},
   "outputs": [],
   "source": [
    "solver_forcing = Leapfrog(T=30)\n",
    "\n",
    "omega_value = 1.2\n",
    "\n",
    "solver_forcing.solve_leapfrog_with_forcing(omega=omega_value)\n",
    "solver_forcing.plot_results_leapfrog(savefig=False, with_forcing=True, omega=omega_value)"
   ]
  },
  {
   "cell_type": "code",
   "execution_count": null,
   "metadata": {},
   "outputs": [],
   "source": [
    "solver_forcing.plot_phase_space(savefig=False)"
   ]
  }
 ],
 "metadata": {
  "kernelspec": {
   "display_name": "Python 3",
   "language": "python",
   "name": "python3"
  },
  "language_info": {
   "codemirror_mode": {
    "name": "ipython",
    "version": 3
   },
   "file_extension": ".py",
   "mimetype": "text/x-python",
   "name": "python",
   "nbconvert_exporter": "python",
   "pygments_lexer": "ipython3",
   "version": "3.12.6"
  }
 },
 "nbformat": 4,
 "nbformat_minor": 2
}
