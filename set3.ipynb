{
 "cells": [
  {
   "cell_type": "markdown",
   "metadata": {},
   "source": [
    "# Assignment Set 3\n",
    "\n",
    "*Authors*: Myriam Belkhatir, Salomé Poulain, Shania Sinha"
   ]
  },
  {
   "cell_type": "code",
   "execution_count": null,
   "metadata": {},
   "outputs": [],
   "source": [
    "import numpy as np\n",
    "import matplotlib.pyplot as plt\n",
    "from importlib import reload\n",
    "from matplotlib.animation import FuncAnimation, PillowWriter"
   ]
  },
  {
   "cell_type": "markdown",
   "metadata": {},
   "source": [
    "## **3.3**: Leapfrog Integration"
   ]
  },
  {
   "cell_type": "code",
   "execution_count": null,
   "metadata": {},
   "outputs": [],
   "source": [
    "import src.leapfrog\n",
    "reload(src.leapfrog)\n",
    "from src.leapfrog import Leapfrog"
   ]
  },
  {
   "cell_type": "markdown",
   "metadata": {},
   "source": [
    "## **I**: Leapfrog Integration for the Simple Harmonic Oscillator"
   ]
  },
  {
   "cell_type": "code",
   "execution_count": null,
   "metadata": {},
   "outputs": [],
   "source": [
    "solver = Leapfrog(T=30)\n",
    "solver.solve_leapfrog()\n",
    "solver.plot_results_leapfrog(savefig=False)"
   ]
  },
  {
   "cell_type": "code",
   "execution_count": null,
   "metadata": {},
   "outputs": [],
   "source": [
    "k_values = [0.5, 1.0, 1.5, 2.0, 5.0]\n",
    "\n",
    "solver_many_k = Leapfrog(T=10)\n",
    "solver_many_k.solve_leapfrog()\n",
    "\n",
    "# Plot many positions graphs\n",
    "solver_many_k.plot_position_many_k(k_values, savefig=False)\n",
    "\n",
    "# Plot many velocities graphs\n",
    "solver_many_k.plot_velocity_many_k(k_values, savefig=False)"
   ]
  },
  {
   "cell_type": "markdown",
   "metadata": {},
   "source": [
    "### ***Bonus***: Leapfrog vs. Runge-Kutta (Energy Conservation Comparison)"
   ]
  },
  {
   "cell_type": "code",
   "execution_count": null,
   "metadata": {},
   "outputs": [],
   "source": [
    "solver_compare = Leapfrog(T=50, dt=0.01)\n",
    "solver_compare.plot_compare_methods(savefig=False)"
   ]
  },
  {
   "cell_type": "markdown",
   "metadata": {},
   "source": [
    "## **J**: Sinusoidal Forcing of Harmonic Oscillator"
   ]
  },
  {
   "cell_type": "code",
   "execution_count": null,
   "metadata": {},
   "outputs": [],
   "source": [
    "solver_forcing = Leapfrog(T=30)\n",
    "\n",
    "omega_value = 0.8\n",
    "\n",
    "solver_forcing.solve_leapfrog_with_forcing(omega=omega_value)\n",
    "solver_forcing.plot_results_leapfrog(savefig=False, with_forcing=True, omega=omega_value)"
   ]
  },
  {
   "cell_type": "code",
   "execution_count": null,
   "metadata": {},
   "outputs": [],
   "source": [
    "solver_forcing.plot_phase_space(savefig=False)"
   ]
  }
 ],
 "metadata": {
  "kernelspec": {
   "display_name": "scicomp2",
   "language": "python",
   "name": "python3"
  },
  "language_info": {
   "codemirror_mode": {
    "name": "ipython",
    "version": 3
   },
   "file_extension": ".py",
   "mimetype": "text/x-python",
   "name": "python",
   "nbconvert_exporter": "python",
   "pygments_lexer": "ipython3",
   "version": "3.12.9"
  }
 },
 "nbformat": 4,
 "nbformat_minor": 2
}
