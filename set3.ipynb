{
 "cells": [
  {
   "cell_type": "markdown",
   "metadata": {},
   "source": [
    "# Assignment Set 3\n",
    "\n",
    "*Authors*: Myriam Belkhatir, Salomé Poulain, Shania Sinha"
   ]
  },
  {
   "cell_type": "markdown",
   "metadata": {},
   "source": [
    "## Import Libraries"
   ]
  },
  {
   "cell_type": "code",
   "execution_count": null,
   "metadata": {},
   "outputs": [],
   "source": [
    "import numpy as np\n",
    "import matplotlib.pyplot as plt\n",
    "from importlib import reload\n",
    "from matplotlib.animation import FuncAnimation, PillowWriter\n",
    "from scipy.sparse import diags"
   ]
  },
  {
   "cell_type": "markdown",
   "metadata": {},
   "source": [
    "### 3.1 Eigenmodes of drums of different shapes"
   ]
  },
  {
   "cell_type": "code",
   "execution_count": null,
   "metadata": {},
   "outputs": [],
   "source": [
    "from src.eigenmodes import EigenvalueProblem"
   ]
  },
  {
   "cell_type": "markdown",
   "metadata": {},
   "source": [
    "#### square with side length L"
   ]
  },
  {
   "cell_type": "code",
   "execution_count": null,
   "metadata": {},
   "outputs": [],
   "source": [
    "\n",
    "# Solve and plot for each shape\n",
    "# 1. Square with side length L = 1\n",
    "square_problem = EigenvalueProblem('square', [1], n=30)\n",
    "square_problem.plot_domain()\n",
    "eigenvalues_square, eigenvectors_square = square_problem.solve_eigen_problem()\n",
    "square_problem.plot_eigenvectors()\n"
   ]
  },
  {
   "cell_type": "markdown",
   "metadata": {},
   "source": [
    "#### rectangle with sides L and 2L"
   ]
  },
  {
   "cell_type": "code",
   "execution_count": null,
   "metadata": {},
   "outputs": [],
   "source": [
    "# 2. Rectangle with sides L = 1 and W = 2L = 2\n",
    "rectangle_problem = EigenvalueProblem('rectangle', [1, 2], n=30)\n",
    "rectangle_problem.plot_domain()\n",
    "eigenvalues_rect, eigenvectors_rect = rectangle_problem.solve_eigen_problem()\n",
    "rectangle_problem.plot_eigenvectors()\n"
   ]
  },
  {
   "cell_type": "markdown",
   "metadata": {},
   "source": [
    "#### a cricle with diameter L"
   ]
  },
  {
   "cell_type": "code",
   "execution_count": null,
   "metadata": {},
   "outputs": [],
   "source": [
    "# 3. Circle with diameter L = 1\n",
    "circle_problem = EigenvalueProblem('circle', [1], n=30)\n",
    "circle_problem.plot_domain()\n",
    "eigenvalues_circle, eigenvectors_circle = circle_problem.solve_eigen_problem()\n",
    "circle_problem.plot_eigenvectors()"
   ]
  }
 ],
 "metadata": {
  "kernelspec": {
   "display_name": "Python 3",
   "language": "python",
   "name": "python3"
  },
  "language_info": {
   "codemirror_mode": {
    "name": "ipython",
    "version": 3
   },
   "file_extension": ".py",
   "mimetype": "text/x-python",
   "name": "python",
   "nbconvert_exporter": "python",
   "pygments_lexer": "ipython3",
   "version": "3.12.6"
  }
 },
 "nbformat": 4,
 "nbformat_minor": 2
}
